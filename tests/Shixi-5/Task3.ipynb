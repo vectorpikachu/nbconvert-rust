{
 "cells": [
  {
   "cell_type": "markdown",
   "id": "bca44878",
   "metadata": {},
   "source": [
    "# 任务三：基于SQL的多元线性回归\n",
    "定义如下幸福指数数据表`happyness(Overall_rank, Country, Score, GDP_per_capita, Social_support, Healthy_life_expectancy, Freedom_to_make_life_choices, Generosity, Perceptions_of_corruption)`。请以`score`作为因变量，`GDP_per_capita`, `Social_support`, `Healthy_life_expectancy`, `Freedom_to_make_life_choices`, `Generosity`, `Perceptions_of_corruption`作为自变量，用SQL完成多元线性回归算法。"
   ]
  },
  {
   "cell_type": "markdown",
   "id": "cfd4299f",
   "metadata": {},
   "source": [
    "首先写出回归方程:\n",
    "$$\n",
    "y = \\beta_0 + \\beta_1 x_1 + \\beta_2 x_2 + \\beta_3 x_3 + \\beta_4 x_4 + \\beta_5 x_5 + \\beta_6 x_6 + u\n",
    "$$\n",
    "注意: 这里的$y$代表上面的因变量`score`, 而$x_1, x_2, x_3, x_4, x_5, x_6$分别代表自变量`GDP_per_capita`, `Social_support`, `Healthy_life_expectancy`, `Freedom_to_make_life_choices`, `Generosity`, `Perceptions_of_corruption`.\n",
    "\n",
    "我们设输入向量为$\\mathbf{x}=(1,x_1,x_2,x_3,x_4,x_5,x_6)$, 设系数向量为$\\mathbf{\\beta}=(\\beta_0,\\beta_1,\\beta_2,\\beta_3,\\beta_4,\\beta_5,\\beta_6)$, 那么我们的目标是最小化所有样本上的**均方误差**:\n",
    "$$\n",
    "J(\\mathbf{\\beta}) = \\frac{1}{n} \\sum_{i=1}^{n} (y_i - \\mathbf{x}_i^T \\mathbf{\\beta})^2\n",
    "$$\n",
    "\n",
    "首先计算出:\n",
    "$$\n",
    "\\frac{\\partial J(\\mathbf{\\beta})}{\\partial \\beta_j} = -\\frac{2}{n} \\sum_{i=1}^{n} (y_i - \\mathbf{x}_i^T \\mathbf{\\beta}) x_{ij}, j = 0, 1, 2, 3, 4, 5, 6\n",
    "$$\n",
    "这里认为$x_0=1$.\n",
    "\n",
    "我们使用梯度下降的算法:\n",
    "$$\n",
    "\\beta_j \\leftarrow \\beta_j - \\alpha \\frac{\\partial J(\\mathbf{\\beta})}{\\partial \\beta_j}, j = 0, 1, 2, 3, 4, 5, 6\n",
    "$$\n",
    "\n",
    "$$\n",
    "\\beta_j \\leftarrow \\beta_j + \\frac{2\\alpha}{n} \\sum_{i=1}^{n} (y_i - \\mathbf{x}_i^T \\mathbf{\\beta}) x_{ij}, j = 0, 1, 2, 3, 4, 5, 6\n",
    "$$\n"
   ]
  },
  {
   "cell_type": "code",
   "execution_count": 1,
   "id": "bd2e14c2",
   "metadata": {},
   "outputs": [],
   "source": [
    "import sqlite3"
   ]
  },
  {
   "cell_type": "code",
   "execution_count": 2,
   "id": "d6422700",
   "metadata": {},
   "outputs": [],
   "source": [
    "def print_table_schema(db_path: str, table_name: str):\n",
    "    \"\"\"\n",
    "    连接到指定的 SQLite 数据库，查询并打印出某张表的结构。\n",
    "    输出内容包括：列 index、列名、数据类型、是否 NOT NULL、默认值、是否主键等。\n",
    "    \"\"\"\n",
    "    # 1. 连接到 SQLite\n",
    "    conn = sqlite3.connect(db_path)\n",
    "    cursor = conn.cursor()\n",
    "\n",
    "    # 2. 执行 PRAGMA table_info\n",
    "    cursor.execute(f\"PRAGMA table_info('{table_name}');\")\n",
    "    rows = cursor.fetchall()\n",
    "\n",
    "    if not rows:\n",
    "        print(f\"表 '{table_name}' 不存在或没有任何字段。\")\n",
    "    else:\n",
    "        # 3. 打印表头\n",
    "        header = [\"cid\", \"column_name\", \"data_type\", \"not_null\", \"default_value\", \"is_pk\"]\n",
    "        print(f\"{header[0]:^3} | {header[1]:^30} | {header[2]:^10} | {header[3]:^8} | {header[4]:^12} | {header[5]:^5}\")\n",
    "        print(\"-\" * (len(header) * 15))\n",
    "\n",
    "        # 4. 逐行打印结果\n",
    "        for cid, name, col_type, notnull, dflt_value, pk in rows:\n",
    "            print(f\"{cid:^3} | {name:^30} | {col_type:^10} |   {notnull:^4}   | \"\n",
    "                  f\"{str(dflt_value):^12}  |    {pk:^1}\")\n",
    "    # 5. 关闭连接\n",
    "    cursor.close()\n",
    "    conn.close()"
   ]
  },
  {
   "cell_type": "code",
   "execution_count": 3,
   "id": "b4dc4589",
   "metadata": {},
   "outputs": [],
   "source": [
    "def print_rows(db_path: str, table_name: str, n: int) -> None:\n",
    "    \"\"\"\n",
    "    连接到指定的 SQLite 数据库，查询并打印出某张表的前 n 条记录，包括列名和每行的值。\n",
    "\n",
    "    参数:\n",
    "      - db_path:    SQLite 数据库文件路径\n",
    "      - table_name: 要查询的表名\n",
    "      - n:          要打印的行数\n",
    "\n",
    "    输出示例（假设表有列 id, name, age）：\n",
    "    id | name    | age\n",
    "    --------------------\n",
    "    1  | Alice   | 30\n",
    "    2  | Bob     | 25\n",
    "    3  | Charlie | 40\n",
    "    \"\"\"\n",
    "    # 1. 连接到 SQLite 数据库\n",
    "    conn = sqlite3.connect(db_path)\n",
    "    cursor = conn.cursor()\n",
    "\n",
    "    try:\n",
    "        # 2. 执行查询，取前 n 条记录\n",
    "        cursor.execute(f\"SELECT * FROM {table_name} LIMIT ?;\", (n,))\n",
    "        rows = cursor.fetchall()\n",
    "\n",
    "        # 3. 如果没有结果，提示表为空或行数不足\n",
    "        if not rows:\n",
    "            print(f\"表 '{table_name}' 中没有数据，或 n={n} 大于行数。\")\n",
    "            return\n",
    "\n",
    "        # 4. 从 cursor.description 获取列名\n",
    "        col_names = [desc[0] for desc in cursor.description]\n",
    "        num_cols = len(col_names)\n",
    "\n",
    "        # 5. 打印列名行\n",
    "        print(\" | \".join(col_names))\n",
    "        print(\"-\" * (len(\" | \".join(col_names)) + 0))\n",
    "\n",
    "        widths = []\n",
    "        for i in range(num_cols):\n",
    "            max_cell = max(len(str(row[i])) for row in rows)\n",
    "            widths.append(max_cell)\n",
    "\n",
    "        # 6. 打印每一行数据\n",
    "        for row in rows:\n",
    "            fmt_row = [str(row[i]).ljust(widths[i]) for i in range(num_cols)]\n",
    "            print(\" | \".join(fmt_row))\n",
    "\n",
    "    except sqlite3.Error as e:\n",
    "        print(f\"查询过程中出现错误：{e}\")\n",
    "    finally:\n",
    "        # 7. 关闭游标与连接\n",
    "        cursor.close()\n",
    "        conn.close()"
   ]
  },
  {
   "cell_type": "code",
   "execution_count": 4,
   "id": "ad88145f",
   "metadata": {},
   "outputs": [
    {
     "name": "stdout",
     "output_type": "stream",
     "text": [
      "cid |          column_name           | data_type  | not_null | default_value | is_pk\n",
      "------------------------------------------------------------------------------------------\n",
      " 0  |               id               |  INTEGER   |    0     |     None      |    1\n",
      " 1  |          Overall_rank          |  INTEGER   |    1     |     None      |    0\n",
      " 2  |            Country             |    TEXT    |    1     |     None      |    0\n",
      " 3  |             Score              |    REAL    |    1     |     None      |    0\n",
      " 4  |         GDP_per_capita         |    REAL    |    1     |     None      |    0\n",
      " 5  |         Social_support         |    REAL    |    1     |     None      |    0\n",
      " 6  |    Healthy_life_expectancy     |    REAL    |    1     |     None      |    0\n",
      " 7  |  Freedom_to_make_life_choices  |    REAL    |    1     |     None      |    0\n",
      " 8  |           Generosity           |    REAL    |    1     |     None      |    0\n",
      " 9  |   Perceptions_of_corruption    |    REAL    |    1     |     None      |    0\n"
     ]
    }
   ],
   "source": [
    "conn = sqlite3.connect('happiness.db')\n",
    "cursor = conn.cursor()\n",
    "# 创建 happiness 表\n",
    "cursor.execute('''\n",
    "CREATE TABLE IF NOT EXISTS happiness (\n",
    "    id INTEGER PRIMARY KEY AUTOINCREMENT,\n",
    "    Overall_rank INTEGER NOT NULL,\n",
    "    Country TEXT NOT NULL,\n",
    "    Score REAL NOT NULL,\n",
    "    GDP_per_capita REAL NOT NULL,\n",
    "    Social_support REAL NOT NULL,\n",
    "    Healthy_life_expectancy REAL NOT NULL,\n",
    "    Freedom_to_make_life_choices REAL NOT NULL,\n",
    "    Generosity REAL NOT NULL,\n",
    "    Perceptions_of_corruption REAL NOT NULL\n",
    ");\n",
    "''')\n",
    "conn.commit()\n",
    "\n",
    "print_table_schema('happiness.db', 'happiness')"
   ]
  },
  {
   "cell_type": "code",
   "execution_count": 5,
   "id": "6a5cf5f7",
   "metadata": {},
   "outputs": [
    {
     "name": "stdout",
     "output_type": "stream",
     "text": [
      "id | Overall_rank | Country | Score | GDP_per_capita | Social_support | Healthy_life_expectancy | Freedom_to_make_life_choices | Generosity | Perceptions_of_corruption\n",
      "-----------------------------------------------------------------------------------------------------------------------------------------------------------------------\n",
      "1 | 1 | Finland     | 7.769 | 1.34  | 1.587 | 0.986 | 0.596 | 0.153 | 0.393\n",
      "2 | 2 | Denmark     | 7.6   | 1.383 | 1.573 | 0.996 | 0.592 | 0.252 | 0.41 \n",
      "3 | 3 | Norway      | 7.554 | 1.488 | 1.582 | 1.028 | 0.603 | 0.271 | 0.341\n",
      "4 | 4 | Iceland     | 7.494 | 1.38  | 1.624 | 1.026 | 0.591 | 0.354 | 0.118\n",
      "5 | 5 | Netherlands | 7.488 | 1.396 | 1.522 | 0.999 | 0.557 | 0.322 | 0.298\n"
     ]
    }
   ],
   "source": [
    "print_rows('happiness.db', 'happiness', 5)"
   ]
  },
  {
   "cell_type": "code",
   "execution_count": 6,
   "id": "7927312d",
   "metadata": {},
   "outputs": [
    {
     "name": "stdout",
     "output_type": "stream",
     "text": [
      "id | Overall_rank | Country | Score | GDP_per_capita | Social_support | Healthy_life_expectancy | Freedom_to_make_life_choices | Generosity | Perceptions_of_corruption\n",
      "-----------------------------------------------------------------------------------------------------------------------------------------------------------------------\n",
      "1 | 1 | Finland     | 7.769 | 1.34  | 1.587 | 0.986 | 0.596 | 0.153 | 0.393\n",
      "2 | 2 | Denmark     | 7.6   | 1.383 | 1.573 | 0.996 | 0.592 | 0.252 | 0.41 \n",
      "3 | 3 | Norway      | 7.554 | 1.488 | 1.582 | 1.028 | 0.603 | 0.271 | 0.341\n",
      "4 | 4 | Iceland     | 7.494 | 1.38  | 1.624 | 1.026 | 0.591 | 0.354 | 0.118\n",
      "5 | 5 | Netherlands | 7.488 | 1.396 | 1.522 | 0.999 | 0.557 | 0.322 | 0.298\n"
     ]
    }
   ],
   "source": [
    "# 插入数据, 从当前目录下的 世界幸福指数数据集 读取\n",
    "# 里面有 2015 - 2019 年的世界幸福指数数据\n",
    "import csv\n",
    "\n",
    "# 2019 年数据 结构如下:\n",
    "# Overall rank,Country or region,Score,GDP per capita,Social support,Healthy life expectancy,Freedom to make life choices,Generosity,Perceptions of corruption\n",
    "\n",
    "with open('./世界幸福指数数据集/2019.csv', 'r', encoding='utf-8') as f:\n",
    "    reader = csv.reader(f)\n",
    "    header = next(reader)  # 读取表头\n",
    "    for row in reader:\n",
    "        cursor.execute('''\n",
    "        INSERT INTO happiness (Overall_rank, Country, Score, GDP_per_capita, Social_support,\n",
    "                               Healthy_life_expectancy, Freedom_to_make_life_choices,\n",
    "                               Generosity, Perceptions_of_corruption)\n",
    "        VALUES (?, ?, ?, ?, ?, ?, ?, ?, ?);\n",
    "        ''', (row[0], row[1], row[2], row[3], row[4], row[5], row[6], row[7], row[8]))\n",
    "\n",
    "conn.commit()\n",
    "\n",
    "print_rows('happiness.db', 'happiness', 5)\n"
   ]
  },
  {
   "cell_type": "code",
   "execution_count": 7,
   "id": "2a074be3",
   "metadata": {},
   "outputs": [],
   "source": [
    "def run_gradient_descent(db_path: str, max_iter: int = 1000, alpha: float = 0.0005):\n",
    "    \"\"\"\n",
    "    在 SQLite 数据库中执行梯度下降算法.\n",
    "    1) 创建辅助表 betas (只含一行) 存放 beta0..beta6, 初始值为 0.\n",
    "    2) 创建辅助表 constants 存放 alpha 和 n (样本数).\n",
    "    3) Python 层面循环 max_iter 次, 每次执行一次 UPDATE betas ... 来更新系数.\n",
    "    4) 最终从 betas 读出 beta0...beta6.\n",
    "    \"\"\"\n",
    "    conn = sqlite3.connect(db_path)\n",
    "    cursor = conn.cursor()\n",
    "    try:\n",
    "        cursor.execute('DROP TABLE IF EXISTS betas;')\n",
    "        cursor.execute('DROP TABLE IF EXISTS constants;')\n",
    "        cursor.execute('DROP TABLE IF EXISTS sample_count;')\n",
    "\n",
    "        # 计算样本数 n，并存入 sample_count\n",
    "        cursor.execute('''\n",
    "        CREATE TABLE sample_count AS\n",
    "        SELECT COUNT(*) AS n\n",
    "        FROM happiness;\n",
    "        ''')\n",
    "\n",
    "        # 创建 betas 表，只含一行，初始化 7 个 beta 都为 0.0\n",
    "        cursor.execute('''\n",
    "        CREATE TABLE betas (\n",
    "            beta0 REAL DEFAULT 0.0,\n",
    "            beta1 REAL DEFAULT 0.0,\n",
    "            beta2 REAL DEFAULT 0.0,\n",
    "            beta3 REAL DEFAULT 0.0,\n",
    "            beta4 REAL DEFAULT 0.0,\n",
    "            beta5 REAL DEFAULT 0.0,\n",
    "            beta6 REAL DEFAULT 0.0\n",
    "        );\n",
    "        ''')\n",
    "        cursor.execute('INSERT INTO betas DEFAULT VALUES;')\n",
    "\n",
    "        # 创建 constants 表，保存 alpha 和 n（从 sample_count 中读取）\n",
    "        cursor.execute(f'''\n",
    "        CREATE TABLE constants AS\n",
    "        SELECT\n",
    "            {alpha} AS alpha,\n",
    "            n\n",
    "        FROM sample_count;\n",
    "        ''')\n",
    "\n",
    "        conn.commit()\n",
    "\n",
    "        update_sql = '''\n",
    "        UPDATE betas\n",
    "        SET\n",
    "            beta0 = beta0 + (2.0 * (SELECT alpha FROM constants) / (SELECT n FROM constants)) * (\n",
    "                SELECT SUM(Score - (beta0 + beta1 * GDP_per_capita + beta2 * Social_support +\n",
    "                                    beta3 * Healthy_life_expectancy + beta4 * Freedom_to_make_life_choices +\n",
    "                                    beta5 * Generosity + beta6 * Perceptions_of_corruption))\n",
    "                FROM happiness\n",
    "            ),\n",
    "            beta1 = beta1 + (2.0 * (SELECT alpha FROM constants) / (SELECT n FROM constants)) * (\n",
    "                SELECT SUM((Score - (beta0 + beta1 * GDP_per_capita + beta2 * Social_support +\n",
    "                                    beta3 * Healthy_life_expectancy + beta4 * Freedom_to_make_life_choices +\n",
    "                                    beta5 * Generosity + beta6 * Perceptions_of_corruption)) * GDP_per_capita)\n",
    "                FROM happiness\n",
    "            ),\n",
    "            beta2 = beta2 + (2.0 * (SELECT alpha FROM constants) / (SELECT n FROM constants)) * (\n",
    "                SELECT SUM((Score - (beta0 + beta1 * GDP_per_capita + beta2 * Social_support +\n",
    "                                    beta3 * Healthy_life_expectancy + beta4 * Freedom_to_make_life_choices +\n",
    "                                    beta5 * Generosity + beta6 * Perceptions_of_corruption)) * Social_support)\n",
    "                FROM happiness\n",
    "            ),\n",
    "            beta3 = beta3 + (2.0 * (SELECT alpha FROM constants) / (SELECT n FROM constants)) * (\n",
    "                SELECT SUM((Score - (beta0 + beta1 * GDP_per_capita + beta2 * Social_support +\n",
    "                                    beta3 * Healthy_life_expectancy + beta4 * Freedom_to_make_life_choices +\n",
    "                                    beta5 * Generosity + beta6 * Perceptions_of_corruption)) * Healthy_life_expectancy)\n",
    "                FROM happiness\n",
    "            ),\n",
    "            beta4 = beta4 + (2.0 * (SELECT alpha FROM constants) / (SELECT n FROM constants)) * (\n",
    "                SELECT SUM((Score - (beta0 + beta1 * GDP_per_capita + beta2 * Social_support +\n",
    "                                    beta3 * Healthy_life_expectancy + beta4 * Freedom_to_make_life_choices +\n",
    "                                    beta5 * Generosity + beta6 * Perceptions_of_corruption)) * Freedom_to_make_life_choices)\n",
    "                FROM happiness\n",
    "            ),\n",
    "            beta5 = beta5 + (2.0 * (SELECT alpha FROM constants) / (SELECT n FROM constants)) * (\n",
    "                SELECT SUM((Score - (beta0 + beta1 * GDP_per_capita + beta2 * Social_support +\n",
    "                                    beta3 * Healthy_life_expectancy + beta4 * Freedom_to_make_life_choices +\n",
    "                                    beta5 * Generosity + beta6 * Perceptions_of_corruption)) * Generosity)\n",
    "                FROM happiness\n",
    "            ),\n",
    "            beta6 = beta6 + (2.0 * (SELECT alpha FROM constants) / (SELECT n FROM constants)) * (\n",
    "                SELECT SUM((Score - (beta0 + beta1 * GDP_per_capita + beta2 * Social_support +\n",
    "                                    beta3 * Healthy_life_expectancy + beta4 * Freedom_to_make_life_choices +\n",
    "                                    beta5 * Generosity + beta6 * Perceptions_of_corruption)) * Perceptions_of_corruption)\n",
    "                FROM happiness\n",
    "            );'''\n",
    "        for _ in range(max_iter):\n",
    "            cursor.execute(update_sql)\n",
    "            conn.commit()\n",
    "        \n",
    "        cursor.execute(\"SELECT beta0, beta1, beta2, beta3, beta4, beta5, beta6 FROM betas;\")\n",
    "        beta_vals = cursor.fetchone()\n",
    "        print(\"训练结束，最终 beta 参数：\")\n",
    "        print(f\"beta0 = {beta_vals[0]:.6f}\")\n",
    "        print(f\"beta1 = {beta_vals[1]:.6f}\")\n",
    "        print(f\"beta2 = {beta_vals[2]:.6f}\")\n",
    "        print(f\"beta3 = {beta_vals[3]:.6f}\")\n",
    "        print(f\"beta4 = {beta_vals[4]:.6f}\")\n",
    "        print(f\"beta5 = {beta_vals[5]:.6f}\")\n",
    "        print(f\"beta6 = {beta_vals[6]:.6f}\")\n",
    "    except sqlite3.Error as e:\n",
    "        print(\"执行过程中出错：\", e)\n",
    "    finally:\n",
    "        cursor.close()\n",
    "        conn.close()"
   ]
  },
  {
   "cell_type": "code",
   "execution_count": 8,
   "id": "d0605d98",
   "metadata": {},
   "outputs": [
    {
     "name": "stdout",
     "output_type": "stream",
     "text": [
      "训练结束，最终 beta 参数：\n",
      "beta0 = 1.302814\n",
      "beta1 = 1.199887\n",
      "beta2 = 1.590536\n",
      "beta3 = 0.964165\n",
      "beta4 = 0.537504\n",
      "beta5 = 0.250273\n",
      "beta6 = 0.158444\n"
     ]
    }
   ],
   "source": [
    "run_gradient_descent('happiness.db', max_iter=1000, alpha=0.0005)"
   ]
  },
  {
   "cell_type": "code",
   "execution_count": 9,
   "id": "42904d29",
   "metadata": {},
   "outputs": [],
   "source": [
    "# 预测一个国家的幸福指数\n",
    "def predict_happiness(db_path: str, gdp: float, social_support: float, healthy_life: float,\n",
    "                      freedom: float, generosity: float, corruption: float) -> float:\n",
    "    \"\"\"\n",
    "    预测一个国家的幸福指数.\n",
    "    \"\"\"\n",
    "    conn = sqlite3.connect(db_path)\n",
    "    cursor = conn.cursor()\n",
    "    try:\n",
    "        cursor.execute(\"SELECT beta0, beta1, beta2, beta3, beta4, beta5, beta6 FROM betas;\")\n",
    "        beta_vals = cursor.fetchone()\n",
    "        if not beta_vals:\n",
    "            raise ValueError(\"未找到训练好的模型参数.\")\n",
    "\n",
    "        # 使用线性回归模型进行预测\n",
    "        prediction = (beta_vals[0] +\n",
    "                      beta_vals[1] * gdp +\n",
    "                      beta_vals[2] * social_support +\n",
    "                      beta_vals[3] * healthy_life +\n",
    "                      beta_vals[4] * freedom +\n",
    "                      beta_vals[5] * generosity +\n",
    "                      beta_vals[6] * corruption)\n",
    "        return prediction\n",
    "    except sqlite3.Error as e:\n",
    "        print(\"执行过程中出错：\", e)\n",
    "    finally:\n",
    "        cursor.close()\n",
    "        conn.close()"
   ]
  },
  {
   "cell_type": "code",
   "execution_count": 10,
   "id": "fa48cd32",
   "metadata": {},
   "outputs": [
    {
     "name": "stdout",
     "output_type": "stream",
     "text": [
      "预测的幸福指数为: 5.498249\n"
     ]
    }
   ],
   "source": [
    "# 使用 2019 年 中国 的数据 Score = 5.191\n",
    "pred = predict_happiness('happiness.db', gdp=1.029, social_support=1.125, healthy_life=0.893,\n",
    "                  freedom=0.521, generosity=0.058, corruption=0.100)\n",
    "print(f\"预测的幸福指数为: {pred:.6f}\")"
   ]
  },
  {
   "cell_type": "code",
   "execution_count": 11,
   "id": "46492d22",
   "metadata": {},
   "outputs": [
    {
     "name": "stdout",
     "output_type": "stream",
     "text": [
      "预测的幸福指数为: 6.516726\n"
     ]
    }
   ],
   "source": [
    "# 使用 2019 年 United States 的数据 Score = 6.892\n",
    "# 1.433,1.457,0.874,0.454,0.280,0.128\n",
    "pred = predict_happiness('happiness.db', gdp=1.433, social_support=1.457, healthy_life=0.874,\n",
    "                  freedom=0.454, generosity=0.280, corruption=0.128)\n",
    "print(f\"预测的幸福指数为: {pred:.6f}\")"
   ]
  },
  {
   "cell_type": "code",
   "execution_count": 12,
   "id": "d357c9ce",
   "metadata": {},
   "outputs": [
    {
     "name": "stdout",
     "output_type": "stream",
     "text": [
      "预测的幸福指数为: 6.531412\n"
     ]
    }
   ],
   "source": [
    "# France,6.592,1.324,1.472,1.045,0.436,0.111,0.183\n",
    "pred = predict_happiness('happiness.db', gdp=1.324, social_support=1.472, healthy_life=1.045,\n",
    "                  freedom=0.436, generosity=0.111, corruption=0.183)\n",
    "print(f\"预测的幸福指数为: {pred:.6f}\")"
   ]
  },
  {
   "cell_type": "code",
   "execution_count": 13,
   "id": "716d1f81",
   "metadata": {},
   "outputs": [
    {
     "name": "stdout",
     "output_type": "stream",
     "text": [
      "预测的幸福指数为: 6.631419\n"
     ]
    }
   ],
   "source": [
    "# Qatar,6.374,1.684,1.313,0.871,0.555,0.220,0.167\n",
    "pred = predict_happiness('happiness.db', gdp=1.684, social_support=1.313, healthy_life=0.871,\n",
    "                  freedom=0.555, generosity=0.220, corruption=0.167)\n",
    "print(f\"预测的幸福指数为: {pred:.6f}\")"
   ]
  },
  {
   "cell_type": "code",
   "execution_count": 14,
   "id": "7953658b",
   "metadata": {},
   "outputs": [
    {
     "name": "stdout",
     "output_type": "stream",
     "text": [
      "预测的幸福指数为: 2.939314\n"
     ]
    }
   ],
   "source": [
    "# South Sudan,2.853,0.306,0.575,0.295,0.010,0.202,0.091\n",
    "pred = predict_happiness('happiness.db', gdp=0.306, social_support=0.575, healthy_life=0.295,\n",
    "                  freedom=0.010, generosity=0.202, corruption=0.091)\n",
    "print(f\"预测的幸福指数为: {pred:.6f}\")"
   ]
  }
 ],
 "metadata": {
  "kernelspec": {
   "display_name": "Python 3",
   "language": "python",
   "name": "python3"
  },
  "language_info": {
   "codemirror_mode": {
    "name": "ipython",
    "version": 3
   },
   "file_extension": ".py",
   "mimetype": "text/x-python",
   "name": "python",
   "nbconvert_exporter": "python",
   "pygments_lexer": "ipython3",
   "version": "3.12.2"
  }
 },
 "nbformat": 4,
 "nbformat_minor": 5
}
