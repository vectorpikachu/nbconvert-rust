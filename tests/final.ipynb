{
 "cells": [
  {
   "cell_type": "markdown",
   "id": "dd935357",
   "metadata": {},
   "source": [
    "## 终极约束设计\n",
    "`my_stock(stock_id, volume, avg_price, profit)`：表示所持有的股票编号、数量、持仓平均价格、利润\n",
    "\n",
    "`trans(trans_id,stock_id, date, price, amount, sell_or_buy)`：表示一次交易的编号、股票编号、交易日期、成交价格、成交数量、买入还是卖出\n",
    "\n",
    "使用触发器完成下面的工作：\n",
    "1. 往`trans`里面插入一条记录时，根据其是买入还是卖出，调整`my_stock`中的`volume`以及`avg_price`。如果是初次插入的股票交易，就在`my_stock`中为该股票新建一条记录，`profit`置为0。注意，如果一笔卖出交易的`amount`大于`my_stock`中该股票的`volume`，说明是无效的下单交易，应该加以拒绝，直接抛弃。\n",
    "平均价格的计算：\n",
    "$$\n",
    "\\text{avg\\_price} = \\frac{\\text{volume}\\times\\text{avg\\_price}+\\text{price}\\times\\text{amount}}{\\text{volume}+\\text{amount}}\n",
    "$$\n",
    "2. `profit`的计算方式如下：每当有卖出交易发生时，将其与尽可能远的买入交易进行匹配，比如如果`trans`中现有的记录为`{(t01,s01,d01,10,1000,buy), (t02,s01,d02,12,500,buy)}`,如果现在插入`{(t03,s01,d03,11,700,sold)}`，本次交易产生的`profit=(11-10)*700`,如果再插入`{(t04,s01,d04,9,700,sold)}`，本次交易产生的`profit=(9-10)*300 + (9-12)*400 = -1500`.将每次卖出交易的profit都累加到`my_stock`的`profit`上。"
   ]
  },
  {
   "cell_type": "code",
   "execution_count": 1,
   "id": "5e8df7d6",
   "metadata": {},
   "outputs": [
    {
     "name": "stdout",
     "output_type": "stream",
     "text": [
      "建表完成\n"
     ]
    }
   ],
   "source": [
    "# 建表\n",
    "import sqlite3\n",
    "\n",
    "sqlite3.enable_callback_tracebacks(True)\n",
    "\n",
    "conn = sqlite3.connect(\"stocks\")\n",
    "cursor = conn.cursor()\n",
    "\n",
    "cursor.execute('''\n",
    "CREATE TABLE IF NOT EXISTS my_stock (\n",
    "  stock_id  TEXT    PRIMARY KEY,\n",
    "  volume    INTEGER NOT NULL,\n",
    "  avg_price REAL    NOT NULL,\n",
    "  profit    REAL    NOT NULL DEFAULT 0\n",
    ");\n",
    "''')\n",
    "\n",
    "cursor.execute('''\n",
    "CREATE TABLE IF NOT EXISTS trans (\n",
    "  trans_id    TEXT    PRIMARY KEY,\n",
    "  stock_id    TEXT      NOT NULL REFERENCES my_stock(stock_id),\n",
    "  date        DATE      NOT NULL,\n",
    "  price       REAL      NOT NULL,\n",
    "  amount      INTEGER   NOT NULL,\n",
    "  sell_or_buy TEXT      NOT NULL CHECK(sell_or_buy IN ('buy','sold'))\n",
    ");\n",
    "''')\n",
    "\n",
    "conn.commit()\n",
    "print(\"建表完成\")"
   ]
  },
  {
   "cell_type": "code",
   "execution_count": 2,
   "id": "33113283",
   "metadata": {},
   "outputs": [],
   "source": [
    "# 打印表结构\n",
    "def print_table_schema(table_name, db_path=\"stocks\"):\n",
    "    \"\"\"\n",
    "    打印指定 SQLite 数据库中某个表的结构信息。\n",
    "    \n",
    "    参数:\n",
    "        table_name (str): 要查看结构的表名。\n",
    "    \"\"\"\n",
    "    try:\n",
    "        # 连接到 SQLite 数据库\n",
    "        conn = sqlite3.connect(db_path)\n",
    "        cursor = conn.cursor()\n",
    "        \n",
    "        # 执行 PRAGMA table_info 命令获取表的结构信息\n",
    "        cursor.execute(f\"PRAGMA table_info('{table_name}')\")\n",
    "        columns = cursor.fetchall()\n",
    "        \n",
    "        if not columns:\n",
    "            print(f\"表 '{table_name}' 不存在或没有列信息。\")\n",
    "            return\n",
    "        \n",
    "        # 打印表结构信息\n",
    "        print(f\"表 '{table_name}' 的结构信息：\")\n",
    "        print(\"{:<5} {:<20} {:<15} {:<10} {:<15} {:<5}\".format(\n",
    "            \"cid\", \"name\", \"type\", \"notnull\", \"dflt_value\", \"pk\"\n",
    "        ))\n",
    "        print(\"-\" * 80)\n",
    "        for col in columns:\n",
    "            cid, name, col_type, notnull, dflt_value, pk = col\n",
    "            print(\"{:<5} {:<20} {:<15} {:<10} {:<15} {:<5}\".format(\n",
    "                cid, name, col_type, notnull, str(dflt_value), pk\n",
    "            ))\n",
    "    except sqlite3.Error as e:\n",
    "        print(f\"发生错误: {e}\")\n",
    "    finally:\n",
    "        # 关闭数据库连接\n",
    "        if conn:\n",
    "            conn.close()"
   ]
  },
  {
   "cell_type": "code",
   "execution_count": 3,
   "id": "15ff38d3",
   "metadata": {},
   "outputs": [],
   "source": [
    "def print_table_data(table_name, db_path=\"stocks\"):\n",
    "    \"\"\"\n",
    "    打印指定 SQLite 数据库中某个表的所有数据，并对齐列。\n",
    "\n",
    "    参数:\n",
    "        table_name (str): 要查看数据的表名。\n",
    "    \"\"\"\n",
    "    try:\n",
    "        # 连接到 SQLite 数据库\n",
    "        conn = sqlite3.connect(db_path)\n",
    "        cursor = conn.cursor()\n",
    "        # 构建 SQL 查询语句\n",
    "        query = f\"SELECT * FROM {table_name}\"\n",
    "        # 执行查询\n",
    "        cursor.execute(query)\n",
    "        rows = cursor.fetchall()\n",
    "        # 获取列名\n",
    "        column_names = [description[0] for description in cursor.description]\n",
    "        # 获取列类型信息\n",
    "        cursor.execute(f\"PRAGMA table_info('{table_name}')\")\n",
    "        table_info = cursor.fetchall()\n",
    "        column_types = [info[2].upper() for info in table_info]\n",
    "        # 计算每列的最大宽度\n",
    "        col_widths = [len(col) for col in column_names]\n",
    "        for row in rows:\n",
    "            for idx, item in enumerate(row):\n",
    "                if isinstance(item, float):\n",
    "                    item_str = f\"{item:.2f}\"\n",
    "                else:\n",
    "                    item_str = str(item)\n",
    "                col_widths[idx] = max(col_widths[idx], len(item_str))\n",
    "\n",
    "        # 构建格式化字符串\n",
    "        format_str = \" | \".join(f\"{{:<{width}}}\" for width in col_widths)\n",
    "        # 打印列名\n",
    "        print(f\"表 '{table_name}' 的数据：\")\n",
    "        print(format_str.format(*column_names))\n",
    "        print(\"-\" * (sum(col_widths) + 3 * (len(col_widths) - 1)))\n",
    "        # 打印每一行数据\n",
    "        for row in rows:\n",
    "            formatted_row = []\n",
    "            for idx, item in enumerate(row):\n",
    "                if column_types[idx] in ('REAL', 'FLOAT', 'DOUBLE') and isinstance(item, float):\n",
    "                    formatted_item = f\"{item:.2f}\"\n",
    "                else:\n",
    "                    formatted_item = str(item)\n",
    "                formatted_row.append(formatted_item)\n",
    "            print(format_str.format(*formatted_row))\n",
    "\n",
    "    except sqlite3.Error as e:\n",
    "        print(f\"发生错误: {e}\")\n",
    "    finally:\n",
    "        # 关闭数据库连接\n",
    "        if conn:\n",
    "            conn.close()"
   ]
  },
  {
   "cell_type": "code",
   "execution_count": 4,
   "id": "bf09f139",
   "metadata": {},
   "outputs": [
    {
     "name": "stdout",
     "output_type": "stream",
     "text": [
      "表 'my_stock' 的结构信息：\n",
      "cid   name                 type            notnull    dflt_value      pk   \n",
      "--------------------------------------------------------------------------------\n",
      "0     stock_id             TEXT            0          None            1    \n",
      "1     volume               INTEGER         1          None            0    \n",
      "2     avg_price            REAL            1          None            0    \n",
      "3     profit               REAL            1          0               0    \n"
     ]
    }
   ],
   "source": [
    "print_table_schema(\"my_stock\")"
   ]
  },
  {
   "cell_type": "code",
   "execution_count": 5,
   "id": "fe5ac5b7",
   "metadata": {},
   "outputs": [
    {
     "name": "stdout",
     "output_type": "stream",
     "text": [
      "表 'trans' 的结构信息：\n",
      "cid   name                 type            notnull    dflt_value      pk   \n",
      "--------------------------------------------------------------------------------\n",
      "0     trans_id             TEXT            0          None            1    \n",
      "1     stock_id             TEXT            1          None            0    \n",
      "2     date                 DATE            1          None            0    \n",
      "3     price                REAL            1          None            0    \n",
      "4     amount               INTEGER         1          None            0    \n",
      "5     sell_or_buy          TEXT            1          None            0    \n"
     ]
    }
   ],
   "source": [
    "print_table_schema(\"trans\")"
   ]
  },
  {
   "cell_type": "markdown",
   "id": "dd1b4837",
   "metadata": {},
   "source": [
    "根据要求，我们需要完成3个触发器：\n",
    "1. 拒绝无效卖出交易\n",
    "2. 买入后更新持仓数量与加权平均价\n",
    "3. 卖出后更新持仓数量与加权平均价"
   ]
  },
  {
   "cell_type": "code",
   "execution_count": 6,
   "id": "6e090e48",
   "metadata": {},
   "outputs": [],
   "source": [
    "# 拒绝无效卖出交易\n",
    "cursor.execute('''\n",
    "DROP TRIGGER IF EXISTS before_insert_trans\n",
    "''')\n",
    "\n",
    "cursor.execute('''\n",
    "CREATE TRIGGER before_insert_trans\n",
    "BEFORE INSERT ON trans\n",
    "WHEN NEW.sell_or_buy = 'sold'\n",
    "BEGIN\n",
    "  -- 如果卖出数量超过当前持仓，Abort 并抛错\n",
    "  -- 当前甚至没有持仓的话，数量为0\n",
    "  SELECT RAISE(ABORT, '卖出数量超过持仓，交易被拒绝')\n",
    "  WHERE NEW.amount > COALESCE(\n",
    "    (SELECT volume FROM my_stock WHERE stock_id = NEW.stock_id), 0\n",
    "  );\n",
    "END;\n",
    "''')\n",
    "conn.commit()"
   ]
  },
  {
   "cell_type": "code",
   "execution_count": 7,
   "id": "eb32aabf",
   "metadata": {},
   "outputs": [],
   "source": [
    "# 买入后更新持仓数量与加权平均价\n",
    "cursor.execute('''\n",
    "DROP TRIGGER IF EXISTS after_insert_buy\n",
    "''')\n",
    "\n",
    "cursor.execute('''\n",
    "CREATE TRIGGER after_insert_buy\n",
    "AFTER INSERT ON trans\n",
    "WHEN NEW.sell_or_buy = 'buy'\n",
    "BEGIN\n",
    "  -- 如果已有持仓，更新 volume 和 avg_price；否则插入新记录\n",
    "  INSERT INTO my_stock(stock_id, volume, avg_price, profit)\n",
    "  VALUES (\n",
    "    NEW.stock_id,\n",
    "    NEW.amount,\n",
    "    NEW.price,\n",
    "    0\n",
    "  )\n",
    "  ON CONFLICT(stock_id) DO UPDATE SET\n",
    "    volume    = volume + NEW.amount,\n",
    "    avg_price = (volume * avg_price + NEW.price * NEW.amount)\n",
    "                / (volume + NEW.amount);\n",
    "END;\n",
    "''')\n",
    "conn.commit()"
   ]
  },
  {
   "cell_type": "code",
   "execution_count": 8,
   "id": "33b6f615",
   "metadata": {},
   "outputs": [],
   "source": [
    "# 卖出后更新持仓数量与加权平均价\n",
    "# 注意：检查是否存在这只股票的触发器已经在前面定义了\n",
    "cursor.execute('''\n",
    "DROP TRIGGER IF EXISTS after_insert_sell\n",
    "''')\n",
    "\n",
    "cursor.execute('''\n",
    "CREATE TRIGGER after_insert_sell\n",
    "AFTER INSERT ON trans\n",
    "WHEN NEW.sell_or_buy = 'sold'\n",
    "BEGIN\n",
    "  -- 扣减持仓\n",
    "  UPDATE my_stock\n",
    "    SET volume = volume - NEW.amount\n",
    "    WHERE stock_id = NEW.stock_id;\n",
    "END;\n",
    "''')\n",
    "conn.commit()"
   ]
  },
  {
   "cell_type": "markdown",
   "id": "b4ca4a3a",
   "metadata": {},
   "source": [
    "由于SQLite3不支持循环等复杂操作，我们在Python中实现先入先出（FIFO）式的匹配股票操作，并且使用Sqlite3的`create_function`将Python函数暴露给SQL引擎。同时，我们创建一个新的表`sale_buy_alloc`来进行配对记录。\n",
    "\n",
    "考虑到在读数据库的时候数据库被上锁的问题，我们新建一个数据库来保存分配信息。\n",
    "\n",
    "但是问题在于 SQLite 不支持在触发器中使用 UDF。不过，[Gunter Hick](https://sqlite.org/forum/forumpost/96160a6536e33f71)给出了一个解决方案：“The trigger program is compiled when the `CREATE TRIGGER` statement is executed (during initial execution or when the schema is loaded from the file). Any functions referenced in triggers need to be defined at that point in time. Your schema will fail to load unless the functions referenced in trigger programs are defined.\n",
    "\n",
    "You should be able to build an extension that creates your user defined functions and then executes one or more `CREATE TEMP TRIGGER` statements that use the now-defined functions. See [https://sqlite.org/loadext.html](https://sqlite.org/loadext.html)”。\n",
    "\n",
    "我们在这里使用这种方案解决 SQLite 的这个问题。"
   ]
  },
  {
   "cell_type": "code",
   "execution_count": 9,
   "id": "6ebf9ac0",
   "metadata": {},
   "outputs": [
    {
     "name": "stdout",
     "output_type": "stream",
     "text": [
      "表 'sale_buy_alloc' 的结构信息：\n",
      "cid   name                 type            notnull    dflt_value      pk   \n",
      "--------------------------------------------------------------------------------\n",
      "0     sale_trans_id        TEXT            1          None            1    \n",
      "1     buy_trans_id         TEXT            1          None            2    \n",
      "2     alloc_amt            INTEGER         1          None            0    \n"
     ]
    }
   ],
   "source": [
    "conn_alloc = sqlite3.connect(\"alloc\")\n",
    "cursor_alloc = conn_alloc.cursor()\n",
    "\n",
    "cursor_alloc.execute('''\n",
    "CREATE TABLE IF NOT EXISTS sale_buy_alloc (\n",
    "  sale_trans_id TEXT NOT NULL,\n",
    "  buy_trans_id  TEXT NOT NULL,\n",
    "  alloc_amt     INTEGER NOT NULL,\n",
    "  PRIMARY KEY (sale_trans_id, buy_trans_id)\n",
    ");\n",
    "''')\n",
    "\n",
    "cursor_alloc.execute('''\n",
    "DELETE FROM sale_buy_alloc\n",
    "''')\n",
    "conn_alloc.commit()\n",
    "print_table_schema(\"sale_buy_alloc\", db_path=\"alloc\")"
   ]
  },
  {
   "cell_type": "code",
   "execution_count": null,
   "id": "da17f96b",
   "metadata": {},
   "outputs": [],
   "source": [
    "def calculate_profit(sale_trans_id, stock_id, sell_price, sell_amt):\n",
    "    conn = sqlite3.connect('stocks')\n",
    "    conn.row_factory = sqlite3.Row  # 让 fetch 回来的是 dict-like 行\n",
    "    cursor = conn.cursor()\n",
    "\n",
    "    profit = 0.0\n",
    "\n",
    "    # 把另一个数据库里的东西挂载进来\n",
    "    cursor.execute(\"ATTACH DATABASE ? AS allocdb\", ('alloc',))\n",
    "\n",
    "    # 查询所有未完全分配的买入记录\n",
    "    cursor.execute(\"\"\"\n",
    "        SELECT\n",
    "            t.trans_id,\n",
    "            t.price AS buy_price,\n",
    "            t.amount - COALESCE(SUM(a.alloc_amt), 0) AS remain\n",
    "        FROM trans t\n",
    "        LEFT JOIN allocdb.sale_buy_alloc a\n",
    "            ON t.trans_id = a.buy_trans_id\n",
    "        WHERE t.stock_id = ?\n",
    "          AND t.sell_or_buy = 'buy'\n",
    "        GROUP BY t.trans_id, t.price, t.amount\n",
    "        HAVING remain > 0\n",
    "        ORDER BY t.date ASC\n",
    "    \"\"\", (stock_id,))\n",
    "\n",
    "    conn_alloc = sqlite3.connect('alloc')\n",
    "    cursor_alloc = conn_alloc.cursor()\n",
    "    \n",
    "    for buy in cursor:\n",
    "        if sell_amt <= 0:\n",
    "            break\n",
    "        buy_trans_id, buy_price, remain = buy[0], buy[1], buy[2]\n",
    "        match_amt = min(remain, sell_amt)\n",
    "        profit += (sell_price - buy_price) * match_amt\n",
    "        # 写入分配关系\n",
    "        cursor_alloc.execute(\"INSERT INTO sale_buy_alloc \"\n",
    "                       \"(sale_trans_id, buy_trans_id, alloc_amt) \"\n",
    "                       \"VALUES (?, ?, ?)\",\n",
    "                       (sale_trans_id, buy_trans_id, match_amt))\n",
    "        sell_amt -= match_amt\n",
    "\n",
    "    conn_alloc.commit()\n",
    "    conn.commit()\n",
    "\n",
    "    conn_alloc.close()\n",
    "    conn.close()\n",
    "    return profit"
   ]
  },
  {
   "cell_type": "code",
   "execution_count": 11,
   "id": "0f3aa7f5",
   "metadata": {},
   "outputs": [],
   "source": [
    "# 卖出后计算利润\n",
    "cursor.execute('''\n",
    "DROP TRIGGER IF EXISTS profit_after_buy\n",
    "''')\n",
    "\n",
    "# 注册 UDF, -1表示可以有不限制的参数个数\n",
    "conn.create_function(\"calculate_profit\", -1, calculate_profit)\n",
    "\n",
    "cursor.execute('''\n",
    "CREATE TEMP TRIGGER profit_after_buy\n",
    "AFTER INSERT ON trans\n",
    "WHEN NEW.sell_or_buy = 'sold'\n",
    "BEGIN\n",
    "  -- 调用 Python 注册的 UDF，执行 FIFO 配对 & 更新 profit 并返回本次 profit\n",
    "  UPDATE my_stock\n",
    "    SET profit = profit + calculate_profit(NEW.trans_id, NEW.stock_id, NEW.price, NEW.amount)\n",
    "    WHERE stock_id = NEW.stock_id;\n",
    "END;\n",
    "''')\n",
    "conn.commit()"
   ]
  },
  {
   "cell_type": "markdown",
   "id": "05c1fb50",
   "metadata": {},
   "source": [
    "现在我们使用提供的触发器的测试数据进行测试。"
   ]
  },
  {
   "cell_type": "code",
   "execution_count": 12,
   "id": "6ad7adcf",
   "metadata": {},
   "outputs": [],
   "source": [
    "# 清空表\n",
    "cursor.execute(\"DELETE FROM my_stock\")\n",
    "cursor.execute(\"DELETE FROM trans\")\n",
    "conn.commit()"
   ]
  },
  {
   "cell_type": "code",
   "execution_count": 13,
   "id": "c25125df",
   "metadata": {},
   "outputs": [],
   "source": [
    "def test(trans_id, stock_id, date, price, amount, sell_or_buy):\n",
    "    try:\n",
    "        cursor.execute(\"INSERT INTO trans\"\n",
    "                    \"(trans_id, stock_id, date, price, amount, sell_or_buy)\"\n",
    "                    \"VALUES (?,?,?,?,?,?)\",\n",
    "                    (trans_id, stock_id, date, price, amount, sell_or_buy))\n",
    "        conn.commit()\n",
    "        print_table_data(\"my_stock\")\n",
    "        print_table_data(\"trans\")\n",
    "    except Exception as e:\n",
    "        print(\"触发器拦截非法操作:\", e)\n",
    "        conn.rollback()"
   ]
  },
  {
   "cell_type": "code",
   "execution_count": 14,
   "id": "a52255e9",
   "metadata": {},
   "outputs": [
    {
     "name": "stdout",
     "output_type": "stream",
     "text": [
      "表 'my_stock' 的数据：\n",
      "stock_id | volume | avg_price | profit\n",
      "--------------------------------------\n",
      "1        | 1000   | 10.00     | 0.00  \n",
      "表 'trans' 的数据：\n",
      "trans_id | stock_id | date       | price | amount | sell_or_buy\n",
      "---------------------------------------------------------------\n",
      "1        | 1        | 2025-01-01 | 10.00 | 1000   | buy        \n"
     ]
    }
   ],
   "source": [
    "test('1', '1', '2025-01-01', 10, 1000, 'buy')"
   ]
  },
  {
   "cell_type": "code",
   "execution_count": 15,
   "id": "97cbb1b5",
   "metadata": {},
   "outputs": [
    {
     "name": "stdout",
     "output_type": "stream",
     "text": [
      "表 'my_stock' 的数据：\n",
      "stock_id | volume | avg_price | profit\n",
      "--------------------------------------\n",
      "1        | 1500   | 10.33     | 0.00  \n",
      "表 'trans' 的数据：\n",
      "trans_id | stock_id | date       | price | amount | sell_or_buy\n",
      "---------------------------------------------------------------\n",
      "1        | 1        | 2025-01-01 | 10.00 | 1000   | buy        \n",
      "2        | 1        | 2025-01-02 | 11.00 | 500    | buy        \n"
     ]
    }
   ],
   "source": [
    "test('2', '1', '2025-01-02', 11, 500, 'buy')"
   ]
  },
  {
   "cell_type": "code",
   "execution_count": 16,
   "id": "908b3fb2",
   "metadata": {},
   "outputs": [
    {
     "name": "stdout",
     "output_type": "stream",
     "text": [
      "10.0\n",
      "表 'my_stock' 的数据：\n",
      "stock_id | volume | avg_price | profit \n",
      "---------------------------------------\n",
      "1        | 700    | 10.33     | 1600.00\n",
      "表 'trans' 的数据：\n",
      "trans_id | stock_id | date       | price | amount | sell_or_buy\n",
      "---------------------------------------------------------------\n",
      "1        | 1        | 2025-01-01 | 10.00 | 1000   | buy        \n",
      "2        | 1        | 2025-01-02 | 11.00 | 500    | buy        \n",
      "3        | 1        | 2025-01-03 | 12.00 | 800    | sold       \n"
     ]
    }
   ],
   "source": [
    "test('3', '1', '2025-01-03', 12, 800, 'sold')"
   ]
  },
  {
   "cell_type": "code",
   "execution_count": 17,
   "id": "5caea1bf",
   "metadata": {},
   "outputs": [
    {
     "name": "stdout",
     "output_type": "stream",
     "text": [
      "触发器拦截非法操作: 卖出数量超过持仓，交易被拒绝\n"
     ]
    }
   ],
   "source": [
    "test('4', '1', '2025-01-04', 12.0, 1000, 'sold')"
   ]
  },
  {
   "cell_type": "code",
   "execution_count": 18,
   "id": "2c1bed6c",
   "metadata": {},
   "outputs": [
    {
     "name": "stdout",
     "output_type": "stream",
     "text": [
      "表 'my_stock' 的数据：\n",
      "stock_id | volume | avg_price | profit \n",
      "---------------------------------------\n",
      "1        | 1700   | 9.55      | 1600.00\n",
      "表 'trans' 的数据：\n",
      "trans_id | stock_id | date       | price | amount | sell_or_buy\n",
      "---------------------------------------------------------------\n",
      "1        | 1        | 2025-01-01 | 10.00 | 1000   | buy        \n",
      "2        | 1        | 2025-01-02 | 11.00 | 500    | buy        \n",
      "3        | 1        | 2025-01-03 | 12.00 | 800    | sold       \n",
      "5        | 1        | 2025-01-05 | 9.00  | 1000   | buy        \n"
     ]
    }
   ],
   "source": [
    "test('5', '1', '2025-01-05', 9.0, 1000, 'buy')"
   ]
  },
  {
   "cell_type": "code",
   "execution_count": 19,
   "id": "41c21408",
   "metadata": {},
   "outputs": [
    {
     "name": "stdout",
     "output_type": "stream",
     "text": [
      "10.0\n",
      "11.0\n",
      "9.0\n",
      "表 'my_stock' 的数据：\n",
      "stock_id | volume | avg_price | profit \n",
      "---------------------------------------\n",
      "1        | 900    | 9.55      | 2800.00\n",
      "表 'trans' 的数据：\n",
      "trans_id | stock_id | date       | price | amount | sell_or_buy\n",
      "---------------------------------------------------------------\n",
      "1        | 1        | 2025-01-01 | 10.00 | 1000   | buy        \n",
      "2        | 1        | 2025-01-02 | 11.00 | 500    | buy        \n",
      "3        | 1        | 2025-01-03 | 12.00 | 800    | sold       \n",
      "5        | 1        | 2025-01-05 | 9.00  | 1000   | buy        \n",
      "6        | 1        | 2025-01-06 | 12.00 | 800    | sold       \n"
     ]
    }
   ],
   "source": [
    "test('6', '1', '2025-01-06', 12.0, 800, 'sold')"
   ]
  },
  {
   "cell_type": "code",
   "execution_count": 20,
   "id": "1c159850",
   "metadata": {},
   "outputs": [
    {
     "name": "stdout",
     "output_type": "stream",
     "text": [
      "9.0\n",
      "表 'my_stock' 的数据：\n",
      "stock_id | volume | avg_price | profit \n",
      "---------------------------------------\n",
      "1        | 100    | 9.55      | 1200.00\n",
      "表 'trans' 的数据：\n",
      "trans_id | stock_id | date       | price | amount | sell_or_buy\n",
      "---------------------------------------------------------------\n",
      "1        | 1        | 2025-01-01 | 10.00 | 1000   | buy        \n",
      "2        | 1        | 2025-01-02 | 11.00 | 500    | buy        \n",
      "3        | 1        | 2025-01-03 | 12.00 | 800    | sold       \n",
      "5        | 1        | 2025-01-05 | 9.00  | 1000   | buy        \n",
      "6        | 1        | 2025-01-06 | 12.00 | 800    | sold       \n",
      "7        | 1        | 2025-01-07 | 7.00  | 800    | sold       \n"
     ]
    }
   ],
   "source": [
    "test('7', '1', '2025-01-07', 7.0, 800, 'sold')"
   ]
  },
  {
   "cell_type": "code",
   "execution_count": 21,
   "id": "1038c2a1",
   "metadata": {},
   "outputs": [
    {
     "name": "stdout",
     "output_type": "stream",
     "text": [
      "表 'sale_buy_alloc' 的数据：\n",
      "sale_trans_id | buy_trans_id | alloc_amt\n",
      "----------------------------------------\n",
      "3             | 1            | 800      \n",
      "6             | 1            | 200      \n",
      "6             | 2            | 500      \n",
      "6             | 5            | 100      \n",
      "7             | 5            | 800      \n"
     ]
    }
   ],
   "source": [
    "print_table_data(\"sale_buy_alloc\", db_path=\"alloc\")"
   ]
  }
 ],
 "metadata": {
  "kernelspec": {
   "display_name": "Python 3",
   "language": "python",
   "name": "python3"
  },
  "language_info": {
   "codemirror_mode": {
    "name": "ipython",
    "version": 3
   },
   "file_extension": ".py",
   "mimetype": "text/x-python",
   "name": "python",
   "nbconvert_exporter": "python",
   "pygments_lexer": "ipython3",
   "version": "3.12.2"
  }
 },
 "nbformat": 4,
 "nbformat_minor": 5
}
