{
 "cells": [
  {
   "cell_type": "code",
   "execution_count": 1,
   "id": "0a7799e3",
   "metadata": {},
   "outputs": [
    {
     "name": "stdout",
     "output_type": "stream",
     "text": [
      "5\n"
     ]
    }
   ],
   "source": [
    "x = 5\n",
    "print(x)"
   ]
  },
  {
   "cell_type": "markdown",
   "id": "26467f61",
   "metadata": {},
   "source": [
    "hhh is a num?\n",
    "\n",
    "[x]: thisi isa?\n",
    "\n",
    "[x] is a num? \n",
    "[^x]: asdasfasdfsdf"
   ]
  },
  {
   "cell_type": "markdown",
   "id": "fcde3958",
   "metadata": {},
   "source": [
    "![x](./logo.jpg)\n",
    "\n",
    "\n"
   ]
  },
  {
   "cell_type": "markdown",
   "id": "9add88a3",
   "metadata": {},
   "source": [
    "# Hello World\n",
    "\n",
    "\n",
    "下面是一个表格。\n",
    "\n",
    "Column A | Column B | Column C\n",
    "---------|----------|---------\n",
    " A1 | B1 | C1\n",
    " A2 | B2 | C2\n",
    " A3 | B3 | C3\n",
    "\n",
    "[x]"
   ]
  },
  {
   "cell_type": "markdown",
   "id": "86e80a09",
   "metadata": {},
   "source": [
    "kkkk\n",
    "\n",
    "\n",
    "taysdhasadasf\n",
    "\n",
    "\n",
    "+ g\n",
    "  + hhh\\\n",
    "    h\\\n",
    "    h \n",
    "+ hh\n",
    "+ 中文\n",
    "\n",
    "1. 222\n",
    "2. sadfsdf\n",
    "3. dsgdfg\n",
    "\n",
    "- safdsf\n",
    "- dsfsdf\n",
    "- dsfsdfs"
   ]
  },
  {
   "cell_type": "markdown",
   "id": "fb7b122f",
   "metadata": {},
   "source": []
  }
 ],
 "metadata": {
  "kernelspec": {
   "display_name": "Python 3",
   "language": "python",
   "name": "python3"
  },
  "language_info": {
   "codemirror_mode": {
    "name": "ipython",
    "version": 3
   },
   "file_extension": ".py",
   "mimetype": "text/x-python",
   "name": "python",
   "nbconvert_exporter": "python",
   "pygments_lexer": "ipython3",
   "version": "3.12.2"
  }
 },
 "nbformat": 4,
 "nbformat_minor": 5
}
