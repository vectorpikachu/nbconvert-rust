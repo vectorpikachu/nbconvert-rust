{
 "cells": [
  {
   "cell_type": "code",
   "execution_count": 1,
   "metadata": {},
   "outputs": [
    {
     "data": {
      "text/plain": [
       "<sqlite3.Cursor at 0x175a50b0540>"
      ]
     },
     "execution_count": 1,
     "metadata": {},
     "output_type": "execute_result"
    }
   ],
   "source": [
    "import sqlite3\n",
    "import json\n",
    "\n",
    "# 创建数据库连接\n",
    "conn = sqlite3.connect('database_course.db')\n",
    "c = conn.cursor()\n",
    "\n",
    "# 创建存储JSON的原始表\n",
    "c.execute('''CREATE TABLE IF NOT EXISTS chapter_json (\n",
    "                id INTEGER PRIMARY KEY AUTOINCREMENT,\n",
    "                content JSON\n",
    "             )''')\n"
   ]
  },
  {
   "cell_type": "code",
   "execution_count": 2,
   "metadata": {},
   "outputs": [],
   "source": [
    "# 示例JSON数据\n",
    "data = {\n",
    "    \"chapter\": \"关系规范化理论\",\n",
    "    \"sections\": [\n",
    "        {\n",
    "            \"section_title\": \"基本概念与问题引入\",\n",
    "            \"knowledge_points\": [\n",
    "                {\n",
    "                    \"key_point\": \"关系模式设计问题\",\n",
    "                    \"explanation\": \"非规范化关系模式会导致数据冗余、插入异常、更新异常和删除异常。例如学生选课表中存储系主任信息时，会导致系主任信息重复存储（冗余）且无法独立维护（异常）\",\n",
    "                    \"qa\": {\n",
    "                        \"question\": \"非规范化关系模式可能引发哪些问题？请举例说明。\",\n",
    "                        \"answer\": \"数据冗余（如系主任信息重复存储）、插入异常（无法单独插入未选课学生的系信息）、更新异常（修改系主任需更新多条记录）、删除异常（删除最后一条学生记录会丢失系信息）\"\n",
    "                    }\n",
    "                },\n",
    "                {\n",
    "                    \"key_point\": \"函数依赖\",\n",
    "                    \"explanation\": \"描述属性间逻辑关系的约束，包括完全依赖、部分依赖和传递依赖。如学号→系名是完全依赖，(学号,课程)→成绩是部分依赖，学号→系主任是传递依赖\",\n",
    "                    \"qa\": {\n",
    "                        \"question\": \"什么是传递函数依赖？请用学生-系-系主任的例子说明。\",\n",
    "                        \"answer\": \"若存在学号→系名，系名→系主任，且系名↛学号，则系主任传递依赖于学号\"\n",
    "                    }\n",
    "                }\n",
    "            ]\n",
    "        },\n",
    "        {\n",
    "            \"section_title\": \"范式体系\",\n",
    "            \"knowledge_points\": [\n",
    "                {\n",
    "                    \"key_point\": \"第一范式（1NF）\",\n",
    "                    \"explanation\": \"属性值不可再分，消除重复组。如将包含多值的地址字段拆分为省、市、街道\",\n",
    "                    \"qa\": {\n",
    "                        \"question\": \"判断表结构是否满足1NF：商品表(商品ID, 商品名称, 规格['红色','L'])\",\n",
    "                        \"answer\": \"不满足1NF，'规格'字段包含多个值，需拆分为独立属性或新建规格表\"\n",
    "                    }\n",
    "                },\n",
    "                # 其他知识点...\n",
    "            ]\n",
    "        },\n",
    "        # 其他章节...\n",
    "    ],\n",
    "    \"question_bank\": [\n",
    "        {\n",
    "            \"question\": \"Armstrong公理包含哪些基本规则？\",\n",
    "            \"answer\": \"自反律（若Y⊆X则X→Y）、增广律（X→Y则XZ→YZ）、传递律（X→Y且Y→Z则X→Z）\"\n",
    "        },\n",
    "        # 其他问题...\n",
    "    ]\n",
    "}"
   ]
  },
  {
   "cell_type": "code",
   "execution_count": 3,
   "metadata": {},
   "outputs": [],
   "source": [
    "# 插入JSON数据\n",
    "c.execute(\"INSERT INTO chapter_json (content) VALUES (?)\", \n",
    "          (json.dumps(data, ensure_ascii=False),))\n",
    "conn.commit()"
   ]
  },
  {
   "cell_type": "code",
   "execution_count": 4,
   "metadata": {},
   "outputs": [
    {
     "name": "stdout",
     "output_type": "stream",
     "text": [
      "查询1：所有章节标题\n",
      "关系规范化理论\n"
     ]
    }
   ],
   "source": [
    "# 查询1：获取特定字段值（所有章节标题）\n",
    "print(\"查询1：所有章节标题\")\n",
    "c.execute('''SELECT json_extract(content, '$.chapter') \n",
    "             FROM chapter_json''')\n",
    "print(c.fetchone()[0])"
   ]
  },
  {
   "cell_type": "code",
   "execution_count": 5,
   "metadata": {},
   "outputs": [
    {
     "name": "stdout",
     "output_type": "stream",
     "text": [
      "\n",
      "查询2：各章节知识点数量\n",
      "基本概念与问题引入: 2个知识点\n",
      "范式体系: 1个知识点\n"
     ]
    }
   ],
   "source": [
    "# 查询2：统计特定数组元素数目（每个section的知识点数量）\n",
    "print(\"\\n查询2：各章节知识点数量\")\n",
    "c.execute('''SELECT json_extract(s.value, '$.section_title'),\n",
    "                    json_array_length(s.value, '$.knowledge_points')\n",
    "             FROM chapter_json, \n",
    "                  json_each(chapter_json.content, '$.sections') AS s''')\n",
    "for row in c.fetchall():\n",
    "    print(f\"{row[0]}: {row[1]}个知识点\")"
   ]
  },
  {
   "cell_type": "code",
   "execution_count": 6,
   "metadata": {},
   "outputs": [],
   "source": [
    "# 创建规范化平面表（1NF）\n",
    "c.execute('''CREATE TABLE IF NOT EXISTS normalized_chapter (\n",
    "                chapter TEXT,\n",
    "                section_title TEXT,\n",
    "                key_point TEXT,\n",
    "                explanation TEXT,\n",
    "                question TEXT,\n",
    "                answer TEXT\n",
    "             )''')\n",
    "\n",
    "# 展开JSON结构插入平面表\n",
    "c.execute('''INSERT INTO normalized_chapter\n",
    "             SELECT json_extract(content, '$.chapter'),\n",
    "                    json_extract(s.value, '$.section_title'),\n",
    "                    json_extract(kp.value, '$.key_point'),\n",
    "                    json_extract(kp.value, '$.explanation'),\n",
    "                    json_extract(kp.value, '$.qa.question'),\n",
    "                    json_extract(kp.value, '$.qa.answer')\n",
    "             FROM chapter_json,\n",
    "                  json_each(chapter_json.content, '$.sections') AS s,\n",
    "                  json_each(s.value, '$.knowledge_points') AS kp''')\n",
    "conn.commit()"
   ]
  },
  {
   "cell_type": "code",
   "execution_count": 7,
   "metadata": {},
   "outputs": [
    {
     "name": "stdout",
     "output_type": "stream",
     "text": [
      "\n",
      "规范化表数据示例:\n",
      "('关系规范化理论', '基本概念与问题引入', '关系模式设计问题', '非规范化关系模式会导致数据冗余、插入异常、更新异常和删除异常。例如学生选课表中存储系主任信息时，会导致系主任信息重复存储（冗余）且无法独立维护（异常）', '非规范化关系模式可能引发哪些问题？请举例说明。', '数据冗余（如系主任信息重复存储）、插入异常（无法单独插入未选课学生的系信息）、更新异常（修改系主任需更新多条记录）、删除异常（删除最后一条学生记录会丢失系信息）')\n",
      "('关系规范化理论', '基本概念与问题引入', '函数依赖', '描述属性间逻辑关系的约束，包括完全依赖、部分依赖和传递依赖。如学号→系名是完全依赖，(学号,课程)→成绩是部分依赖，学号→系主任是传递依赖', '什么是传递函数依赖？请用学生-系-系主任的例子说明。', '若存在学号→系名，系名→系主任，且系名↛学号，则系主任传递依赖于学号')\n"
     ]
    }
   ],
   "source": [
    "# 验证规范化表\n",
    "print(\"\\n规范化表数据示例:\")\n",
    "c.execute(\"SELECT * FROM normalized_chapter LIMIT 2\")\n",
    "for row in c.fetchall():\n",
    "    print(row)\n",
    "\n",
    "# 创建问题库表\n",
    "c.execute('''CREATE TABLE IF NOT EXISTS question_bank (\n",
    "                id INTEGER PRIMARY KEY AUTOINCREMENT,\n",
    "                chapter TEXT,\n",
    "                question TEXT,\n",
    "                answer TEXT\n",
    "             )''')\n",
    "\n",
    "# 插入问题库数据\n",
    "c.execute('''INSERT INTO question_bank (chapter, question, answer)\n",
    "             SELECT json_extract(content, '$.chapter'),\n",
    "                    json_extract(q.value, '$.question'),\n",
    "                    json_extract(q.value, '$.answer')\n",
    "             FROM chapter_json,\n",
    "                  json_each(chapter_json.content, '$.question_bank') AS q''')\n",
    "conn.commit()"
   ]
  }
 ],
 "metadata": {
  "kernelspec": {
   "display_name": "sql",
   "language": "python",
   "name": "python3"
  },
  "language_info": {
   "codemirror_mode": {
    "name": "ipython",
    "version": 3
   },
   "file_extension": ".py",
   "mimetype": "text/x-python",
   "name": "python",
   "nbconvert_exporter": "python",
   "pygments_lexer": "ipython3",
   "version": "3.12.9"
  }
 },
 "nbformat": 4,
 "nbformat_minor": 2
}
