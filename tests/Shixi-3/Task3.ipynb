{
 "cells": [
  {
   "cell_type": "markdown",
   "id": "3480042b",
   "metadata": {},
   "source": [
    "### 数据库schema：\n",
    "数据库sentence.db schema如下：\n",
    "\n",
    "sentence(sid,sentence1, sentence2, similar_score,sen1_vector,sen2_vector,vecSim_score)\n",
    "\n",
    "分别是句子id，句子1，句子2，句子相似度得分，句子1嵌入向量，句子2嵌入向量，向量相似度得分）\n",
    "\n",
    "### 任务要求：\n",
    "\n",
    "调用嵌入模型：可以使用sqlite-vss或sqlite-vec或调用本地中文嵌入模型（huggingface等拉取），对每个数据库中每个元组的两个句子分别进行向量嵌入，并计算向量相似度得分。更新数据库sentence.db的后三列。\n",
    "\n",
    "### 输出要求：\n",
    "\n",
    "按照这样的方法：\n",
    "\n",
    "```python\n",
    "df = pd.read_sql_query(\"\"\"\n",
    "    SELECT sid, sentence1, sentence2, similar_score, sen1_vector, sen2_vector,vecSim_score FROM sentence\n",
    "\"\"\", conn)\n",
    "print(df.head(20))\n",
    "```\n",
    "输出数据库的前20个元组。但请注意，助教评分时可能会运行你的代码，抽查其他元组结果。"
   ]
  },
  {
   "cell_type": "code",
   "execution_count": 1,
   "id": "c183a864",
   "metadata": {},
   "outputs": [],
   "source": [
    "import sqlite3\n",
    "import os\n",
    "import pandas as pd"
   ]
  },
  {
   "cell_type": "code",
   "execution_count": 2,
   "id": "0297b6ed",
   "metadata": {},
   "outputs": [],
   "source": [
    "# 文件路径修改成自己的文件路径\n",
    "DATA_FILE = 'sts-b-train.txt'\n",
    "DB_FILE = 'sentence.db'\n",
    "\n",
    "if os.path.exists(DB_FILE):\n",
    "    os.remove(DB_FILE)\n",
    "\n",
    "conn = sqlite3.connect(DB_FILE)\n",
    "cursor = conn.cursor()"
   ]
  },
  {
   "cell_type": "code",
   "execution_count": 3,
   "id": "0492109b",
   "metadata": {},
   "outputs": [],
   "source": [
    "cursor.execute('''\n",
    "CREATE TABLE IF NOT EXISTS sentence (\n",
    "    sid INTEGER PRIMARY KEY AUTOINCREMENT,\n",
    "    sentence1 TEXT NOT NULL,\n",
    "    sentence2 TEXT NOT NULL,\n",
    "    similar_score REAL NOT NULL,\n",
    "    sen1_vector BLOB,\n",
    "    sen2_vector BLOB,\n",
    "    vecSim_score REAL\n",
    ")\n",
    "''')\n",
    "conn.commit()"
   ]
  },
  {
   "cell_type": "code",
   "execution_count": 4,
   "id": "81bd94e8",
   "metadata": {},
   "outputs": [],
   "source": [
    "with open(DATA_FILE, 'r', encoding='utf-8') as f:\n",
    "    for line in f:\n",
    "        parts = line.strip().split('\\t')\n",
    "        if len(parts) != 3:\n",
    "            continue\n",
    "        sentence1, sentence2, score = parts\n",
    "        cursor.execute('''\n",
    "            INSERT INTO sentence (sentence1, sentence2, similar_score)\n",
    "            VALUES (?, ?, ?)\n",
    "        ''', (sentence1, sentence2, float(score)))\n",
    "conn.commit()"
   ]
  },
  {
   "cell_type": "code",
   "execution_count": null,
   "id": "60ae24ae",
   "metadata": {},
   "outputs": [
    {
     "name": "stdout",
     "output_type": "stream",
     "text": [
      "   sid          sentence1                  sentence2  similar_score  \\\n",
      "0    1          一架飞机要起飞了。                  一架飞机正在起飞。            5.0   \n",
      "1    2       一个男人在吹一支大笛子。                   一个人在吹长笛。            3.0   \n",
      "2    3  一个人正把切碎的奶酪撒在比萨饼上。  一个男人正在把切碎的奶酪撒在一块未煮好的比萨饼上。            3.0   \n",
      "3    4            三个人在下棋。                    两个人在下棋。            2.0   \n",
      "4    5          一个人在拉大提琴。              一个坐着的人正在拉大提琴。            4.0   \n",
      "5    6            有些人在战斗。                    两个人在打架。            4.0   \n",
      "6    7           一个男人在抽烟。                   一个男人在滑冰。            0.0   \n",
      "7    8            那人在弹钢琴。                    那人在弹吉他。            1.0   \n",
      "8    9       一个男人在弹吉他和唱歌。        一位女士正在弹着一把原声吉他，唱着歌。            2.0   \n",
      "9   10    一个人正把一只猫扔到天花板上。             一个人把一只猫扔在天花板上。            5.0   \n",
      "\n",
      "  sen1_vector sen2_vector vecSim_score  \n",
      "0        None        None         None  \n",
      "1        None        None         None  \n",
      "2        None        None         None  \n",
      "3        None        None         None  \n",
      "4        None        None         None  \n",
      "5        None        None         None  \n",
      "6        None        None         None  \n",
      "7        None        None         None  \n",
      "8        None        None         None  \n",
      "9        None        None         None  \n"
     ]
    }
   ],
   "source": [
    "df = pd.read_sql_query(\"\"\"\n",
    "    SELECT sid, sentence1, sentence2, similar_score, sen1_vector, sen2_vector, vecSim_score FROM sentence\n",
    "\"\"\", conn)\n",
    "print(df.head(10))"
   ]
  },
  {
   "cell_type": "code",
   "execution_count": 6,
   "id": "d6b95ca8",
   "metadata": {},
   "outputs": [
    {
     "name": "stderr",
     "output_type": "stream",
     "text": [
      "c:\\Users\\vectorpikachu\\AppData\\Local\\Programs\\Python\\Python312\\Lib\\site-packages\\tqdm\\auto.py:21: TqdmWarning: IProgress not found. Please update jupyter and ipywidgets. See https://ipywidgets.readthedocs.io/en/stable/user_install.html\n",
      "  from .autonotebook import tqdm as notebook_tqdm\n"
     ]
    }
   ],
   "source": [
    "from sentence_transformers import SentenceTransformer\n",
    "\n",
    "# 加载模型, 需要先下载到本地文件夹下\n",
    "model = SentenceTransformer('./text2vec-base-chinese')"
   ]
  },
  {
   "cell_type": "code",
   "execution_count": 7,
   "id": "e0a447c8",
   "metadata": {},
   "outputs": [
    {
     "name": "stderr",
     "output_type": "stream",
     "text": [
      "Batches: 100%|██████████| 82/82 [00:44<00:00,  1.85it/s]\n",
      "Batches: 100%|██████████| 82/82 [00:44<00:00,  1.85it/s]\n"
     ]
    }
   ],
   "source": [
    "cursor = conn.cursor()\n",
    "\n",
    "cursor.execute(\"SELECT sid, sentence1, sentence2 FROM sentence\")\n",
    "rows = cursor.fetchall()\n",
    "\n",
    "# 提取句子和对应的 sid\n",
    "sid_list = []\n",
    "sentences1 = []\n",
    "sentences2 = []\n",
    "\n",
    "for row in rows:\n",
    "    sid, s1, s2 = row\n",
    "    sid_list.append(sid)\n",
    "    sentences1.append(s1)\n",
    "    sentences2.append(s2)\n",
    "\n",
    "# 生成嵌入向量\n",
    "embeddings1 = model.encode(sentences1, batch_size=64, show_progress_bar=True)\n",
    "embeddings2 = model.encode(sentences2, batch_size=64, show_progress_bar=True)"
   ]
  },
  {
   "cell_type": "code",
   "execution_count": 8,
   "id": "51c2c709",
   "metadata": {},
   "outputs": [],
   "source": [
    "import numpy as np\n",
    "def cosine_similarity(vec1, vec2):\n",
    "    return float(np.dot(vec1, vec2) / (np.linalg.norm(vec1) * np.linalg.norm(vec2)))"
   ]
  },
  {
   "cell_type": "code",
   "execution_count": 9,
   "id": "8fd09c2f",
   "metadata": {},
   "outputs": [],
   "source": [
    "for sid, vec1, vec2 in zip(sid_list, embeddings1, embeddings2):\n",
    "    # 计算余弦相似度\n",
    "    sim_score = cosine_similarity(vec1, vec2)\n",
    "\n",
    "    # 将向量转换为二进制格式\n",
    "    vec1_blob = vec1.tobytes()\n",
    "    vec2_blob = vec2.tobytes()\n",
    "\n",
    "    # 更新数据库记录\n",
    "    cursor.execute(\"\"\"\n",
    "        UPDATE sentence\n",
    "        SET sen1_vector = ?, sen2_vector = ?, vecSim_score = ?\n",
    "        WHERE sid = ?\n",
    "    \"\"\", (vec1_blob, vec2_blob, sim_score, sid))\n",
    "\n",
    "# 提交更改\n",
    "conn.commit()"
   ]
  },
  {
   "cell_type": "code",
   "execution_count": null,
   "id": "8455301b",
   "metadata": {},
   "outputs": [
    {
     "name": "stdout",
     "output_type": "stream",
     "text": [
      "    sid           sentence1                  sentence2  similar_score  \\\n",
      "0     1           一架飞机要起飞了。                  一架飞机正在起飞。            5.0   \n",
      "1     2        一个男人在吹一支大笛子。                   一个人在吹长笛。            3.0   \n",
      "2     3   一个人正把切碎的奶酪撒在比萨饼上。  一个男人正在把切碎的奶酪撒在一块未煮好的比萨饼上。            3.0   \n",
      "3     4             三个人在下棋。                    两个人在下棋。            2.0   \n",
      "4     5           一个人在拉大提琴。              一个坐着的人正在拉大提琴。            4.0   \n",
      "5     6             有些人在战斗。                    两个人在打架。            4.0   \n",
      "6     7            一个男人在抽烟。                   一个男人在滑冰。            0.0   \n",
      "7     8             那人在弹钢琴。                    那人在弹吉他。            1.0   \n",
      "8     9        一个男人在弹吉他和唱歌。        一位女士正在弹着一把原声吉他，唱着歌。            2.0   \n",
      "9    10     一个人正把一只猫扔到天花板上。             一个人把一只猫扔在天花板上。            5.0   \n",
      "10   11        那人用棍子打了另一个人。            那人用棍子打了另一个人一巴掌。            4.0   \n",
      "11   12            一个人在吹长笛。                  一个男人在吹竹笛。            3.0   \n",
      "12   13           一个人在叠一张纸。                   有人在叠一张纸。            4.0   \n",
      "13   14  一条狗正试图把培根从他的背上弄下来。             一只狗正试图吃它背上的培根。            3.0   \n",
      "14   15          北极熊在雪地上滑行。               一只北极熊在雪地上滑行。            5.0   \n",
      "15   16            一个女人在写作。                   一个女人在游泳。            0.0   \n",
      "16   17        一只猫在婴儿的脸上摩擦。                   一只猫在蹭婴儿。            3.0   \n",
      "17   18              那人在骑马。                    一个人骑着马。            5.0   \n",
      "18   19           一个人往锅里倒油。                 一个人把酒倒进锅里。            3.0   \n",
      "19   20           一个男人在弹吉他。                  一个女孩在弹吉他。            2.0   \n",
      "\n",
      "                                          sen1_vector  \\\n",
      "0   b'tw\\xbb\\xbe\\xbc=#>\\xfc\\x86\\xac=lG->6\\x8aw>wzU...   \n",
      "1   b'\\t\\x03\\xa5\\xbc\\xf0\\xdd\\x92\\xbe\\xc1&\\x86\\xbf\\...   \n",
      "2   b'\\xac\\xc1\\n?\\x0b\\xbb\\x0b?\\x8dz\\x1b\\xbe\\x83\\xd...   \n",
      "3   b'\\xd5C\\xfd>T\\xfa#\\xbf\\xac\\xcd\\x04?\\x18\\x1e\\x9...   \n",
      "4   b'Q\\x92\\xde;;q\\x04?\\xb0\\x1d\\x83\\xbe\\xd3\\x08\\x9...   \n",
      "5   b'\\x8c\\xcf\\xd5\\xbe\\xc0M`\\xbe\\xe4d\\xa9\\xbeu\\x19...   \n",
      "6   b'W|I\\xbe`\\xfaz?Z\\x1dq?zP\\xab?\\xb0@\\x12\\xbdH\\x...   \n",
      "7   b's\\xb8V?\\xcbj\\xf0=\\x97\\xeeh\\xbe\\x84|5?$h\\xe7=...   \n",
      "8   b'\\xce\\x80\\xe4>%\\xaf\\xf6>\\x83\\xbe7?\\xc8H\"?h\\xa...   \n",
      "9   b'U1\\xc5\\xbd}p\\x98=\\x17\\xdc\\xef=jWR\\xbe\\xc7\\xc...   \n",
      "10  b'&\\x88\\xc4={\\x19\\t\\xbe\\x19\\xb9\\x99\\xbeI\\xcd ?...   \n",
      "11  b'\\x92c\\x90\\xbe\\xd9\\xb8\\xb1\\xbe\\xdc/\\x00\\xbf>`...   \n",
      "12  b'\\x17B\\xb9\\xbe\\xae:\\x06>\\x9c\\x9c\\x03?\\xd6\\xd5...   \n",
      "13  b'\\xc8O\\xc6>\\x0e\\xeaS\\xbf\\xb7=D>2\\xba\\xaa\\xbev...   \n",
      "14  b'K\\xb2P\\xbd+\\xbb\\x08\\xbf};\\x88\\xbe\\xfc\\xab\\xc...   \n",
      "15  b'Q\\xb1&?\\xee\\x0b\\xef\\xbd@Q(?\\x85wb?\\xc2U\\xab\\...   \n",
      "16  b'\\x03M\\xb4\\xbd7\\x9c\\x9f\\xbdn\\xe0\\x14>>\\x81k\\x...   \n",
      "17  b'\\x13\\xa3\\xe0<\\xb8\\x0bX\\xbfUG\\x01?\\xff\\x15\\x9...   \n",
      "18  b'\\xb2\\x8a\\x19?]Q\\xae?\\xf9\\x16-\\xbd\\xc7\\x82^>$...   \n",
      "19  b'\\x97\\x85-?\\xe2w&?\\'\\xa6\\xfc>\\x1c\\xf62>\\xbd\\x...   \n",
      "\n",
      "                                          sen2_vector  vecSim_score  \n",
      "0   b'_\\x96\\x1e\\xbf\\x11_y>\\xec\\x88\\x03?\\xdc(\\xf1=\\...      0.956823  \n",
      "1   b'\\x92c\\x90\\xbe\\xd9\\xb8\\xb1\\xbe\\xdc/\\x00\\xbf>`...      0.884109  \n",
      "2   b'\\x16\\x0c\\x0b?\\xc5\\xbd\\x0e?\\x9aU:\\xbe\\xf4\\xb8...      0.974107  \n",
      "3   b'\\xf2&\\xe4>\\'{;\\xbf\\xd5]J?\\xb7)S?\\x079X?h\\x84...      0.747162  \n",
      "4   b'P\\xfe\\x8f==\\x11\\x06?)\\xa0\\xb1\\xbe\\xf9\\xb5\\x8...      0.961783  \n",
      "5   b'\\x12h\\xe9\\xbc\\x93o\\x9c\\xbe)&_\\xbe\"\\xd8\\x17?\\...      0.846043  \n",
      "6   b'\\xba\\xdb\\xc1?\\xa6P\\xa9=\\x9a\\xcd\\xc4\\xbd\\xf0m...      0.231173  \n",
      "7   b'IP\\x07?B\\xbb\\xc5>\\xc0;\\xef>\\xf5\\x93\\x87>i\\xf...      0.484320  \n",
      "8   b'\\xdbi>;\\xdb\\xa3<\\xbb\\xcb6\\x85\\xbd{\\xdf\\x8b?\\...      0.734604  \n",
      "9   b'\\xb8\\xb8\\x14\\xbd\\xca\\x81\\xc1\\xbd2\\x86\\xc9=\\x...      0.983240  \n",
      "10  b'@\\xcd\\x88>\\xa2\\xc2\\x8c>\\xd0\\x18,\\xbe\\x9e\\xcc...      0.909791  \n",
      "11  b']\\xd0\\xb6>\\x89\\x89\\x1a=\\xc3lq\\xbf\\x81\\xf6\\xc...      0.836796  \n",
      "12  b'\\x1f\\xd2\\xaa\\xbe\\xf8\\xa3j> \\xb9\\xfa>\\x88\\x9b...      0.979772  \n",
      "13  b'r\\x93\\xa8>\\xfa\\x1e\\x95\\xbew\\xd9\\xfa\\xbe\\x89\\...      0.798483  \n",
      "14  b'\\xae\\xa9\\xb7\\xbc\\x10\\xb2\\xda\\xbe\\x0e\\x9d\\x83...      0.985583  \n",
      "15  b'H\\xf8\\x95?Nm\\xd8>\\xa2L\\x0e\\xbf\\xc3\\x95\\x8e>@...      0.425817  \n",
      "16  b'A\\xac\\xa7\\xbea\\xba=\\xbf*A\\x80\\xbf\\x9b=\\xfd\\x...      0.798582  \n",
      "17  b'=t\\t=DIS\\xbf\\xb7E*>\\x9b\\xabw?\\x8d\\x1e)\\xbe\\x...      0.944069  \n",
      "18  b'8=E?D\\x82\\xdc?\\xd5$\\r\\xbc\\xad\\x1f<>\\xc9q\\xe5...      0.687595  \n",
      "19  b'd\\xaeA?\\xf6X\\xeb<PL\\x94>\\xcd\\xa3\\x9e>\\xe9\\xc...      0.706035  \n"
     ]
    }
   ],
   "source": [
    "df = pd.read_sql_query(\"\"\"\n",
    "    SELECT sid, sentence1, sentence2, similar_score, sen1_vector, sen2_vector, vecSim_score FROM sentence\n",
    "\"\"\", conn)\n",
    "print(df.head(20))"
   ]
  },
  {
   "cell_type": "code",
   "execution_count": 11,
   "id": "c18dbd5b",
   "metadata": {},
   "outputs": [],
   "source": [
    "conn.close()"
   ]
  },
  {
   "cell_type": "markdown",
   "id": "d1be917c",
   "metadata": {},
   "source": [
    "## 提示：一些可能的嵌入向量的方式：\n",
    "\n",
    "### 1.安装 sqlite-vss（基于 FAISS）\n",
    "\n",
    "```python\n",
    "!pip install faiss-cpu\n",
    "!pip install sqlite-vss\n",
    "\n",
    "import sqlite3\n",
    "import sqlite_vss\n",
    "conn = sqlite3.connect(\"sentence.db\")\n",
    "sqlite_vss.load(conn)\n",
    "```\n",
    "### 2.安装sqlite-vec(建议python版本>=3.9)\n",
    "\n",
    "```python\n",
    "!pip install sqlite-vec\n",
    "\n",
    "\n",
    "import sqlite3\n",
    "import sqlite_vec\n",
    "conn = sqlite3.connect(\"sentence.db\")\n",
    "sqlite_vec.load(conn)\n",
    "```\n",
    "\n",
    "### 3. 使用hugging_face等拉取嵌入模型\n",
    "\n",
    "```python\n",
    "!pip install sentence-transformers\n",
    "!pip install torch\n",
    "\n",
    "model = HuggingFaceEmbeddings('YOU MODEL PATH')\n",
    "```\n"
   ]
  }
 ],
 "metadata": {
  "kernelspec": {
   "display_name": "Python 3",
   "language": "python",
   "name": "python3"
  },
  "language_info": {
   "codemirror_mode": {
    "name": "ipython",
    "version": 3
   },
   "file_extension": ".py",
   "mimetype": "text/x-python",
   "name": "python",
   "nbconvert_exporter": "python",
   "pygments_lexer": "ipython3",
   "version": "3.12.6"
  }
 },
 "nbformat": 4,
 "nbformat_minor": 5
}
