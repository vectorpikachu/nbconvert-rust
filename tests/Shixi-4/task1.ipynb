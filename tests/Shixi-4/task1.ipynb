{
 "cells": [
  {
   "cell_type": "markdown",
   "id": "84742a58",
   "metadata": {},
   "source": [
    "# 索引调优实验\n",
    "观察索引对查询性能的影响,以下以时间作为评判标准。"
   ]
  },
  {
   "cell_type": "code",
   "execution_count": 16,
   "id": "1f6aa113",
   "metadata": {},
   "outputs": [],
   "source": [
    "import random\n",
    "import time\n",
    "from sqlalchemy import create_engine, text\n",
    "\n",
    "\n",
    "# 使用 SQLite 内存数据库\n",
    "engine = create_engine(\"sqlite:///:memory:\", echo=False)\n",
    "\n",
    "# 创建表\n",
    "create_table_sql = \"\"\"\n",
    "CREATE TABLE testIndex (\n",
    "    id INTEGER PRIMARY KEY AUTOINCREMENT,\n",
    "    A INTEGER,\n",
    "    B INTEGER,\n",
    "    C TEXT\n",
    ")\n",
    "\"\"\"\n",
    "\n",
    "with engine.connect() as conn:\n",
    "    conn.execute(text(\"DROP TABLE IF EXISTS testIndex\"))\n",
    "    conn.execute(text(create_table_sql))\n",
    "    conn.commit()\n",
    "\n"
   ]
  },
  {
   "cell_type": "code",
   "execution_count": 17,
   "id": "45e20047",
   "metadata": {},
   "outputs": [],
   "source": [
    "import random\n",
    "\n",
    "def generate_data(n=100000):\n",
    "    return [(random.randint(0, 999),\n",
    "             random.randint(0, 100000),\n",
    "             f\"prefix_{random.randint(0, 9999):04d}\") for _ in range(n)]\n",
    "\n",
    "data = generate_data()\n",
    "\n",
    "with engine.begin() as conn:\n",
    "    conn.execute(text(\"DELETE FROM testIndex\"))\n",
    "    for i in range(0, len(data), 1000):\n",
    "        batch = data[i:i+1000]\n",
    "        conn.execute(\n",
    "            text(\"INSERT INTO testIndex (A, B, C) VALUES (:A, :B, :C)\"),\n",
    "            [{\"A\": a, \"B\": b, \"C\": c} for a, b, c in batch]\n",
    "        )\n"
   ]
  },
  {
   "cell_type": "code",
   "execution_count": 18,
   "id": "4a697a8b-82b9-4c5b-9391-12cba41f8784",
   "metadata": {},
   "outputs": [],
   "source": [
    "def measure_time(sql):\n",
    "    with engine.connect() as conn:\n",
    "        start = time.time()\n",
    "        conn.execute(text(sql)).fetchall()\n",
    "        return time.time() - start"
   ]
  },
  {
   "cell_type": "code",
   "execution_count": 19,
   "id": "43087216-10f6-48ae-beae-fe197b5c3fa4",
   "metadata": {},
   "outputs": [
    {
     "name": "stdout",
     "output_type": "stream",
     "text": [
      "实验1 - 分组查询时间（无索引）: 0.03820300102233887\n",
      "实验1 - 自连接查询时间（无索引）: 23.62165379524231\n"
     ]
    }
   ],
   "source": [
    "# === 实验 1：A 列分组 和 自连接 查询性能 ===\n",
    "group_sql = \"SELECT A, COUNT(*) FROM testIndex GROUP BY A\"\n",
    "join_sql = \"SELECT t1.id, t2.id FROM testIndex t1 JOIN testIndex t2 ON t1.A = t2.A\"\n",
    "\n",
    "print(\"实验1 - 分组查询时间（无索引）:\", measure_time(group_sql))\n",
    "print(\"实验1 - 自连接查询时间（无索引）:\", measure_time(join_sql))"
   ]
  },
  {
   "cell_type": "code",
   "execution_count": 20,
   "id": "181ff3ec-eeb1-46ad-875a-911ccb78873b",
   "metadata": {},
   "outputs": [
    {
     "name": "stdout",
     "output_type": "stream",
     "text": [
      "实验1 - 分组查询时间（有索引）: 0.011694192886352539\n",
      "实验1 - 自连接查询时间（有索引）: 18.388360261917114\n"
     ]
    }
   ],
   "source": [
    "# 为 A 列添加索引\n",
    "with engine.connect() as conn:\n",
    "    conn.execute(text(\"CREATE INDEX idx_A ON testIndex(A)\"))\n",
    "    conn.commit()\n",
    "\n",
    "print(\"实验1 - 分组查询时间（有索引）:\", measure_time(group_sql))\n",
    "print(\"实验1 - 自连接查询时间（有索引）:\", measure_time(join_sql))"
   ]
  },
  {
   "cell_type": "markdown",
   "id": "87c8b25a-f5ad-44e1-b0b4-27214ca9201b",
   "metadata": {},
   "source": [
    "### 结论\n",
    "1. **索引对于分组查询（GROUP BY）性能显著提升**\n",
    "    <br>- 分组字段是 A，加索引后由 0.0377 秒降到 0.0075 秒，性能提升约 5 倍。\n",
    "    <br>- 这是因为索引可加快排序或分组过程（有序结构减少比较）。\n",
    "  \n",
    "2. **索引对于自连接查询（JOIN）性能有轻微改善**\n",
    "    <br>- 时间由 22.7 秒降到 19.6 秒，改善约 14%。\n",
    "    <br>- 虽然有优化，但JOIN操作涉及两次扫描，提升幅度不如 GROUP BY 明显。\n",
    "\n",
    "\n",
    "<u>下环线\n",
    "\n",
    "\n",
    "</u>\n",
    "\n",
    "\n",
    "<b>strong!</b>"
   ]
  },
  {
   "cell_type": "code",
   "execution_count": 21,
   "id": "e3f0e152-ac32-4644-925a-888b6728915b",
   "metadata": {},
   "outputs": [
    {
     "name": "stdout",
     "output_type": "stream",
     "text": [
      "实验2 - 条件查询（仅A索引）: 0.0005412101745605469\n",
      "实验2 - 条件查询（A+B组合索引）: 0.0010035037994384766\n"
     ]
    }
   ],
   "source": [
    "# === 实验 2：组合索引 A+B 查询性能 ===\n",
    "select_sql = \"SELECT B FROM testIndex WHERE A = 500\"\n",
    "\n",
    "print(\"实验2 - 条件查询（仅A索引）:\", measure_time(select_sql))\n",
    "\n",
    "# 添加组合索引 (A, B)\n",
    "with engine.connect() as conn:\n",
    "    conn.execute(text(\"DROP INDEX IF EXISTS idx_A_B\"))\n",
    "    conn.execute(text(\"CREATE INDEX idx_A_B ON testIndex(A, B)\"))\n",
    "    conn.commit()\n",
    "\n",
    "print(\"实验2 - 条件查询（A+B组合索引）:\", measure_time(select_sql))"
   ]
  },
  {
   "cell_type": "markdown",
   "id": "ee37001d-b9f4-4eae-a25b-bff6de228bda",
   "metadata": {},
   "source": [
    "### 结论：\n",
    "1. **复合索引（A, B）在仅使用 A 作为过滤条件时仍然有效**：\n",
    "   <br>- 数据库可以利用复合索引的前缀原则，仅使用索引中的前一列（A）进行过滤。\n",
    "\n",
    "2. **性能显著提升**：\n",
    "    <br>- 使用复合索引后查询几乎瞬间完成，说明索引结构优化效果显著。\n",
    "    <br>- 可能是由于复合索引比原单列索引更适配数据库内部执行计划，或者原本的单列索引未被高效使用。\n",
    "\n"
   ]
  },
  {
   "cell_type": "code",
   "execution_count": 22,
   "id": "1f38fdda-9d18-4abd-b936-5ddd2467f9ff",
   "metadata": {},
   "outputs": [
    {
     "name": "stdout",
     "output_type": "stream",
     "text": [
      "实验3 - 函数查询（无函数索引）: 0.0071790218353271484\n",
      "实验3 - 函数查询（有函数索引）: 0.0\n"
     ]
    }
   ],
   "source": [
    "# === 实验 3：函数索引（适用于C列 Substring） ===\n",
    "# 注意：SQLite 中 SUBSTR 替代 Substring，且支持表达式索引\n",
    "func_query = \"SELECT * FROM testIndex WHERE SUBSTR(C, 8, 3) = '123'\"\n",
    "\n",
    "print(\"实验3 - 函数查询（无函数索引）:\", measure_time(func_query))\n",
    "\n",
    "# 添加函数索引\n",
    "with engine.connect() as conn:\n",
    "    conn.execute(text(\"CREATE INDEX idx_func_c ON testIndex(SUBSTR(C, 8, 3))\"))\n",
    "    conn.commit()\n",
    "\n",
    "print(\"实验3 - 函数查询（有函数索引）:\", measure_time(func_query))"
   ]
  },
  {
   "cell_type": "code",
   "execution_count": 23,
   "id": "1ab9e674-6f08-42db-898d-44721ffd130e",
   "metadata": {},
   "outputs": [
    {
     "name": "stdout",
     "output_type": "stream",
     "text": [
      "实验3 - 函数查询（表达式不一致，无法使用索引）: 0.008000850677490234\n"
     ]
    }
   ],
   "source": [
    "# 查询：SUBSTR(C, 2, 2) = '12' （表达式不同，无法使用索引）\n",
    "func_query_invalid = \"SELECT * FROM testIndex WHERE SUBSTR(C, 8, 2) = '12'\"\n",
    "\n",
    "print(\"实验3 - 函数查询（表达式不一致，无法使用索引）:\", measure_time(func_query_invalid))"
   ]
  },
  {
   "cell_type": "code",
   "execution_count": 24,
   "id": "3b164f5d-cf1d-452b-ba2e-acb4487c6f94",
   "metadata": {},
   "outputs": [],
   "source": [
    "def explain_query(sql):\n",
    "    with engine.connect() as conn:\n",
    "        result = conn.execute(text(f\"EXPLAIN QUERY PLAN {sql}\")).fetchall()\n",
    "        for row in result:\n",
    "            print(\"执行计划:\", row)"
   ]
  },
  {
   "cell_type": "code",
   "execution_count": 25,
   "id": "285ffbcb-488a-4eca-8c40-b727be74125f",
   "metadata": {},
   "outputs": [
    {
     "name": "stdout",
     "output_type": "stream",
     "text": [
      "索引命中（表达式一致）:\n",
      "执行计划: (3, 0, 0, 'SEARCH testIndex USING INDEX idx_func_c (<expr>=?)')\n",
      "索引未命中（表达式不一致）:\n",
      "执行计划: (2, 0, 0, 'SCAN testIndex')\n"
     ]
    }
   ],
   "source": [
    "print(\"索引命中（表达式一致）:\")\n",
    "explain_query(func_query)\n",
    "\n",
    "print(\"索引未命中（表达式不一致）:\")\n",
    "explain_query(func_query_invalid)\n"
   ]
  },
  {
   "cell_type": "markdown",
   "id": "451ed31b-1e73-45d9-9f33-212b012ed194",
   "metadata": {},
   "source": [
    "\n",
    "\n",
    "### 结论\n",
    "\n",
    "1. **SQLite 支持函数/表达式索引**：\n",
    "    <br>- 如 `SUBSTR(C, 8, 3)` 可以创建索引并被有效使用。\n",
    "\n",
    "2. **必须严格匹配表达式结构**：\n",
    "    <br>- 查询表达式需与索引定义完全一致（函数名、参数顺序和值等），否则 **索引无法使用**。\n",
    "\n",
    "3. **命中索引性能提升明显**：\n",
    "    <br>- 查询耗时从约 0.019s 降至 0s，说明索引生效。\n",
    "\n",
    "4. **表达式稍有不同则会回退全表扫描**：\n",
    "    <br>- 如改为 `SUBSTR(C, 8, 2)`，则完全不使用索引，退化为慢速查询。\n",
    "\n"
   ]
  }
 ],
 "metadata": {
  "kernelspec": {
   "display_name": "Python 3 (ipykernel)",
   "language": "python",
   "name": "python3"
  },
  "language_info": {
   "codemirror_mode": {
    "name": "ipython",
    "version": 3
   },
   "file_extension": ".py",
   "mimetype": "text/x-python",
   "name": "python",
   "nbconvert_exporter": "python",
   "pygments_lexer": "ipython3",
   "version": "3.10.11"
  }
 },
 "nbformat": 4,
 "nbformat_minor": 5
}
